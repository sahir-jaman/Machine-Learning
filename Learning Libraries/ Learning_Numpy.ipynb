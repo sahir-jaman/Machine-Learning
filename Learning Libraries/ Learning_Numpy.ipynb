{
 "cells": [
  {
   "cell_type": "code",
   "execution_count": 1,
   "id": "b8fee913",
   "metadata": {},
   "outputs": [],
   "source": [
    "import numpy as np"
   ]
  },
  {
   "cell_type": "code",
   "execution_count": 5,
   "id": "d35d2f55",
   "metadata": {},
   "outputs": [
    {
     "data": {
      "text/plain": [
       "array(['sahir', 'jaman', 'is', 'my', 'name'], dtype='<U5')"
      ]
     },
     "execution_count": 5,
     "metadata": {},
     "output_type": "execute_result"
    }
   ],
   "source": [
    "array1 = np.array([\"sahir\",\"jaman\",\"is\",\"my\",\"name\"])\n",
    "array1"
   ]
  },
  {
   "cell_type": "code",
   "execution_count": 3,
   "id": "af4f5e98",
   "metadata": {},
   "outputs": [
    {
     "data": {
      "text/plain": [
       "[[[1, 2], '3d']]"
      ]
     },
     "execution_count": 3,
     "metadata": {},
     "output_type": "execute_result"
    }
   ],
   "source": [
    "array2= [ [ [1,2],\"3d\" ] ]\n",
    "array2"
   ]
  },
  {
   "cell_type": "code",
   "execution_count": 4,
   "id": "dec6996f",
   "metadata": {},
   "outputs": [
    {
     "name": "stdout",
     "output_type": "stream",
     "text": [
      "<class 'list'>\n"
     ]
    }
   ],
   "source": [
    "print(type(array2))"
   ]
  },
  {
   "cell_type": "code",
   "execution_count": 6,
   "id": "912ab7b4",
   "metadata": {},
   "outputs": [
    {
     "name": "stdout",
     "output_type": "stream",
     "text": [
      "<class 'numpy.ndarray'>\n"
     ]
    }
   ],
   "source": [
    "print(type(array1))"
   ]
  },
  {
   "cell_type": "markdown",
   "id": "31f23e58",
   "metadata": {},
   "source": [
    "# Doing Numpy Best Example"
   ]
  },
  {
   "cell_type": "code",
   "execution_count": 7,
   "id": "26a554a1",
   "metadata": {},
   "outputs": [],
   "source": [
    "a = np.array(45)\n",
    "b = np.array([1,2,3,4,5])\n",
    "c = np.array([ [1,2,3],[4,5,6] ])\n",
    "d = np.array([ [ [1,2,3],[4,5,6],[7,8,9] ] ])"
   ]
  },
  {
   "cell_type": "code",
   "execution_count": 4,
   "id": "50d7e21a",
   "metadata": {},
   "outputs": [
    {
     "name": "stdout",
     "output_type": "stream",
     "text": [
      "0\n",
      "1\n",
      "2\n",
      "3\n"
     ]
    }
   ],
   "source": [
    "print(a.ndim)\n",
    "print(b.ndim)\n",
    "print(c.ndim)\n",
    "print(d.ndim)"
   ]
  },
  {
   "cell_type": "code",
   "execution_count": 5,
   "id": "a080e0cb",
   "metadata": {},
   "outputs": [
    {
     "data": {
      "text/plain": [
       "array([[[[1, 2, 3],\n",
       "         [4, 5, 6]]]])"
      ]
     },
     "execution_count": 5,
     "metadata": {},
     "output_type": "execute_result"
    }
   ],
   "source": [
    "e = np.array([[[ [1,2,3],[4,5,6] ]]])\n",
    "e"
   ]
  },
  {
   "cell_type": "code",
   "execution_count": 6,
   "id": "c5f99dec",
   "metadata": {},
   "outputs": [
    {
     "name": "stdout",
     "output_type": "stream",
     "text": [
      "4\n"
     ]
    }
   ],
   "source": [
    "print(e.ndim)"
   ]
  },
  {
   "cell_type": "code",
   "execution_count": 7,
   "id": "86d0293d",
   "metadata": {},
   "outputs": [
    {
     "name": "stdout",
     "output_type": "stream",
     "text": [
      "[[[1 2 3]\n",
      "  [4 5 6]\n",
      "  [7 8 9]]]\n"
     ]
    }
   ],
   "source": [
    "print(d)"
   ]
  },
  {
   "cell_type": "code",
   "execution_count": null,
   "id": "a7e0921a",
   "metadata": {},
   "outputs": [],
   "source": []
  }
 ],
 "metadata": {
  "kernelspec": {
   "display_name": "Python 3 (ipykernel)",
   "language": "python",
   "name": "python3"
  },
  "language_info": {
   "codemirror_mode": {
    "name": "ipython",
    "version": 3
   },
   "file_extension": ".py",
   "mimetype": "text/x-python",
   "name": "python",
   "nbconvert_exporter": "python",
   "pygments_lexer": "ipython3",
   "version": "3.9.12"
  }
 },
 "nbformat": 4,
 "nbformat_minor": 5
}
